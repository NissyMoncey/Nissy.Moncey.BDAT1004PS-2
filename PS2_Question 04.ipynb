{
 "cells": [
  {
   "cell_type": "code",
   "execution_count": 12,
   "id": "93609d08",
   "metadata": {},
   "outputs": [],
   "source": [
    "def collatz(x):\n",
    "    #we continue these steps until value is 1\n",
    "    if x==1:\n",
    "        return 1\n",
    "    # If x is even\n",
    "    elif x % 2==0:\n",
    "        print(x)\n",
    "        return collatz(x // 2)\n",
    "    # If odd\n",
    "    else:\n",
    "        print(x)\n",
    "        return collatz(3 * x + 1) \n",
    " \n",
    "    # Print values\n"
   ]
  },
  {
   "cell_type": "code",
   "execution_count": 13,
   "id": "06d151b5",
   "metadata": {},
   "outputs": [
    {
     "data": {
      "text/plain": [
       "1"
      ]
     },
     "execution_count": 13,
     "metadata": {},
     "output_type": "execute_result"
    }
   ],
   "source": [
    "collatz(1)"
   ]
  },
  {
   "cell_type": "code",
   "execution_count": 14,
   "id": "7fe26ed0",
   "metadata": {},
   "outputs": [
    {
     "name": "stdout",
     "output_type": "stream",
     "text": [
      "10\n",
      "5\n",
      "16\n",
      "8\n",
      "4\n",
      "2\n"
     ]
    },
    {
     "data": {
      "text/plain": [
       "1"
      ]
     },
     "execution_count": 14,
     "metadata": {},
     "output_type": "execute_result"
    }
   ],
   "source": [
    "collatz(10)"
   ]
  }
 ],
 "metadata": {
  "kernelspec": {
   "display_name": "Python 3 (ipykernel)",
   "language": "python",
   "name": "python3"
  },
  "language_info": {
   "codemirror_mode": {
    "name": "ipython",
    "version": 3
   },
   "file_extension": ".py",
   "mimetype": "text/x-python",
   "name": "python",
   "nbconvert_exporter": "python",
   "pygments_lexer": "ipython3",
   "version": "3.9.12"
  }
 },
 "nbformat": 4,
 "nbformat_minor": 5
}
