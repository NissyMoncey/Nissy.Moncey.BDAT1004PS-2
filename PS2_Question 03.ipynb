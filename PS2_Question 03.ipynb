{
 "cells": [
  {
   "cell_type": "code",
   "execution_count": 3,
   "id": "b6922f2a",
   "metadata": {},
   "outputs": [],
   "source": [
    "class Marsupial:\n",
    "    def __init__(self, initial = []): \n",
    "        self.lst = initial\n",
    "    def put_in_pouch(self, item):\n",
    "        self.lst.append(item)\n",
    "    def pouch_contents(self):\n",
    "        return \"{}\".format(self.lst)"
   ]
  },
  {
   "cell_type": "code",
   "execution_count": 4,
   "id": "240b304d",
   "metadata": {},
   "outputs": [
    {
     "data": {
      "text/plain": [
       "\"['doll', 'firetruck', 'kitten']\""
      ]
     },
     "execution_count": 4,
     "metadata": {},
     "output_type": "execute_result"
    }
   ],
   "source": [
    "m = Marsupial()\n",
    "m.put_in_pouch('doll')\n",
    "m.put_in_pouch('firetruck') \n",
    "m.put_in_pouch('kitten')\n",
    "m.pouch_contents()"
   ]
  },
  {
   "cell_type": "code",
   "execution_count": 5,
   "id": "85d00f19",
   "metadata": {},
   "outputs": [],
   "source": [
    "class Kangaroo(Marsupial):\n",
    "    def __init__(self, xcoord=0, ycoord=0,initial = []):\n",
    "        self.xcoord = xcoord\n",
    "        self.ycoord = ycoord\n",
    "        self.lst = initial\n",
    "    def setx(self, xcoord):\n",
    "        'set x value of Kangaroo to xcoord'\n",
    "        self.x = xcoord\n",
    "\n",
    "    def sety(self, ycoord):\n",
    "        'set y value of Kangaroo to ycoord'\n",
    "        self.y = ycoord\n",
    "\n",
    "    def get(self):\n",
    "        'return coordinates of the Kangaroo as a tuple'\n",
    "        return (self.x, self.y)\n",
    "\n",
    "    def jump(self, dx, dy):\n",
    "        'change the x and y coordinates by dx and dy'\n",
    "        self.xcoord += dx\n",
    "        self.ycoord += dy\n",
    "    def __str__(self):\n",
    "        return \"{},{} \\nI am a Kangaroo located at coordinates {},{}\".format(self.xcoord,self.ycoord,self.xcoord,self.ycoord)\n",
    "        "
   ]
  },
  {
   "cell_type": "code",
   "execution_count": 6,
   "id": "488f9364",
   "metadata": {},
   "outputs": [
    {
     "name": "stdout",
     "output_type": "stream",
     "text": [
      "0,0 \n",
      "I am a Kangaroo located at coordinates 0,0\n"
     ]
    }
   ],
   "source": [
    "k = Kangaroo(0,0)\n",
    "print(k)"
   ]
  },
  {
   "cell_type": "code",
   "execution_count": 7,
   "id": "8484c21c",
   "metadata": {},
   "outputs": [
    {
     "data": {
      "text/plain": [
       "\"['doll', 'firetruck', 'kitten']\""
      ]
     },
     "execution_count": 7,
     "metadata": {},
     "output_type": "execute_result"
    }
   ],
   "source": [
    "k.put_in_pouch('doll')\n",
    "k.put_in_pouch('firetruck')\n",
    "k.put_in_pouch('kitten')\n",
    "k.pouch_contents()"
   ]
  },
  {
   "cell_type": "code",
   "execution_count": 8,
   "id": "bbd1450e",
   "metadata": {},
   "outputs": [
    {
     "name": "stdout",
     "output_type": "stream",
     "text": [
      "3,0 \n",
      "I am a Kangaroo located at coordinates 3,0\n"
     ]
    }
   ],
   "source": [
    "k.jump(1,0)\n",
    "k.jump(1,0)\n",
    "k.jump(1,0)\n",
    "print(k)"
   ]
  }
 ],
 "metadata": {
  "kernelspec": {
   "display_name": "Python 3 (ipykernel)",
   "language": "python",
   "name": "python3"
  },
  "language_info": {
   "codemirror_mode": {
    "name": "ipython",
    "version": 3
   },
   "file_extension": ".py",
   "mimetype": "text/x-python",
   "name": "python",
   "nbconvert_exporter": "python",
   "pygments_lexer": "ipython3",
   "version": "3.9.12"
  }
 },
 "nbformat": 4,
 "nbformat_minor": 5
}
