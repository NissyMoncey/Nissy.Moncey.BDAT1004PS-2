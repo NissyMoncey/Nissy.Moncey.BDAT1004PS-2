{
 "cells": [
  {
   "cell_type": "code",
   "execution_count": 1,
   "id": "bf8da113",
   "metadata": {},
   "outputs": [
    {
     "name": "stdout",
     "output_type": "stream",
     "text": [
      "Sorry, the file D:\\myfiles\\currencieys.txt does not exist.\n"
     ]
    }
   ],
   "source": [
    "## Given code\n",
    "\n",
    "def fileLength(file_name):\n",
    "    try :\n",
    "        file = open(file_name)\n",
    "        contents = file.read()\n",
    "        file.close()\n",
    "        print(len(contents))\n",
    "    except IOError:\n",
    "        message=\"Sorry, the file \"+ file_name + \" does not exist.\"\n",
    "        print(message)\n",
    "    \n",
    "    \n",
    "fileLength(\"D:\\\\myfiles\\\\currencieys.txt\");"
   ]
  }
 ],
 "metadata": {
  "kernelspec": {
   "display_name": "Python 3 (ipykernel)",
   "language": "python",
   "name": "python3"
  },
  "language_info": {
   "codemirror_mode": {
    "name": "ipython",
    "version": 3
   },
   "file_extension": ".py",
   "mimetype": "text/x-python",
   "name": "python",
   "nbconvert_exporter": "python",
   "pygments_lexer": "ipython3",
   "version": "3.9.12"
  }
 },
 "nbformat": 4,
 "nbformat_minor": 5
}
