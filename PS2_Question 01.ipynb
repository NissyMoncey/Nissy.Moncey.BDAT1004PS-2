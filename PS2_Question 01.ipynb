{
 "cells": [
  {
   "cell_type": "markdown",
   "id": "1c5b2a27",
   "metadata": {},
   "source": [
    "# Question 01"
   ]
  },
  {
   "cell_type": "code",
   "execution_count": 7,
   "id": "7c22a9d1",
   "metadata": {},
   "outputs": [
    {
     "data": {
      "text/plain": [
       "6"
      ]
     },
     "execution_count": 7,
     "metadata": {},
     "output_type": "execute_result"
    }
   ],
   "source": [
    "a = 0\n",
    "def b():\n",
    "    global a\n",
    "    a = c(a)\n",
    "def c(a):\n",
    "    return a + 2\n",
    "b()\n",
    "b()\n",
    "b()\n",
    "a"
   ]
  },
  {
   "cell_type": "markdown",
   "id": "0ff34be0",
   "metadata": {},
   "source": [
    "Solution: global keyword allows you to modify the variable outside of the current scope. It is used to create a global variable and make changes to the variable in a local context.\n",
    "Each time when b() function is called,it adds 2 to the current value of a and the value is retained everytime as it is a global variable."
   ]
  }
 ],
 "metadata": {
  "kernelspec": {
   "display_name": "Python 3 (ipykernel)",
   "language": "python",
   "name": "python3"
  },
  "language_info": {
   "codemirror_mode": {
    "name": "ipython",
    "version": 3
   },
   "file_extension": ".py",
   "mimetype": "text/x-python",
   "name": "python",
   "nbconvert_exporter": "python",
   "pygments_lexer": "ipython3",
   "version": "3.9.12"
  }
 },
 "nbformat": 4,
 "nbformat_minor": 5
}
