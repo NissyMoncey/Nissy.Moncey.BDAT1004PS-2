{
 "cells": [
  {
   "cell_type": "code",
   "execution_count": 12,
   "id": "66b8fbcb",
   "metadata": {},
   "outputs": [
    {
     "name": "stdout",
     "output_type": "stream",
     "text": [
      "Enter a non-negative integer of your choice:10\n",
      "1010\n"
     ]
    }
   ],
   "source": [
    "def binary(n):\n",
    "    if n < 0:\n",
    "        return \"Please enter a valid integer\"\n",
    "    elif n == 0:\n",
    "        return 0;\n",
    "    else:\n",
    "        # Recursion call and storing the result\n",
    "        value = binary(n // 2)\n",
    "     \n",
    "        return n % 2 + 10 * value\n",
    " \n",
    "number = int(input('Enter a non-negative integer of your choice:'))\n",
    "print(binary(number))"
   ]
  },
  {
   "cell_type": "code",
   "execution_count": 13,
   "id": "dc0ad55a",
   "metadata": {},
   "outputs": [
    {
     "data": {
      "text/plain": [
       "0"
      ]
     },
     "execution_count": 13,
     "metadata": {},
     "output_type": "execute_result"
    }
   ],
   "source": [
    "binary(0)"
   ]
  },
  {
   "cell_type": "code",
   "execution_count": 14,
   "id": "0e2f514f",
   "metadata": {},
   "outputs": [
    {
     "data": {
      "text/plain": [
       "1"
      ]
     },
     "execution_count": 14,
     "metadata": {},
     "output_type": "execute_result"
    }
   ],
   "source": [
    "binary(1)"
   ]
  },
  {
   "cell_type": "code",
   "execution_count": 15,
   "id": "e1d72463",
   "metadata": {},
   "outputs": [
    {
     "data": {
      "text/plain": [
       "11"
      ]
     },
     "execution_count": 15,
     "metadata": {},
     "output_type": "execute_result"
    }
   ],
   "source": [
    "binary(3)"
   ]
  },
  {
   "cell_type": "code",
   "execution_count": 16,
   "id": "656e1635",
   "metadata": {},
   "outputs": [
    {
     "data": {
      "text/plain": [
       "1001"
      ]
     },
     "execution_count": 16,
     "metadata": {},
     "output_type": "execute_result"
    }
   ],
   "source": [
    "binary(9)"
   ]
  }
 ],
 "metadata": {
  "kernelspec": {
   "display_name": "Python 3 (ipykernel)",
   "language": "python",
   "name": "python3"
  },
  "language_info": {
   "codemirror_mode": {
    "name": "ipython",
    "version": 3
   },
   "file_extension": ".py",
   "mimetype": "text/x-python",
   "name": "python",
   "nbconvert_exporter": "python",
   "pygments_lexer": "ipython3",
   "version": "3.9.12"
  }
 },
 "nbformat": 4,
 "nbformat_minor": 5
}
