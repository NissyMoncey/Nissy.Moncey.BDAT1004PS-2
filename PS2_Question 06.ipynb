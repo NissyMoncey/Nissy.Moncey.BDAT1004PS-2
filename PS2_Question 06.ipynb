{
 "cells": [
  {
   "cell_type": "code",
   "execution_count": 14,
   "id": "11e3c8e4",
   "metadata": {},
   "outputs": [
    {
     "name": "stdout",
     "output_type": "stream",
     "text": [
      "W3C Mission\n",
      " Principles\n",
      "\n"
     ]
    }
   ],
   "source": [
    "from html.parser import HTMLParser\n",
    "class HeadingParser(HTMLParser):\n",
    "    def __init__(self):\n",
    "        super().__init__()\n",
    "        self.data = \"\"\n",
    "        self.header=False\n",
    "        self.test=None\n",
    "    def handle_starttag(self, tag, attrs):\n",
    "        if tag in ('h1', 'h2','h3','h4','h5','h6'):\n",
    "            self.header = True\n",
    "            self.test=tag\n",
    "\n",
    "    def handle_endtag(self, tag):\n",
    "        if tag in ('h1', 'h2','h3','h4','h5','h6'):\n",
    "             self.header = False\n",
    "             \n",
    "\n",
    "    def handle_data(self, data):\n",
    "        if  self.header:\n",
    "            if self.test=='h1'  :\n",
    "                print(data)\n",
    "            elif self.test=='h2':\n",
    "                print(\" \"+data)\n",
    "            elif self.test=='h3':\n",
    "                print(\" \"+data)\n",
    "            elif self.test=='h4':\n",
    "                print(\" \"+data)\n",
    "            elif self.test=='h5':\n",
    "                print(\" \"+data)\n",
    "            elif self.test=='h6':\n",
    "                print(\" \"+data)\n",
    "    \n",
    "infile = open('D:\\\\Nissy Documents\\\\w3c.html') \n",
    "content = infile.read() \n",
    "infile.close() \n",
    "headingParser = HeadingParser() \n",
    "headingParser.feed(content)   \n",
    "print(headingParser.data)"
   ]
  }
 ],
 "metadata": {
  "kernelspec": {
   "display_name": "Python 3 (ipykernel)",
   "language": "python",
   "name": "python3"
  },
  "language_info": {
   "codemirror_mode": {
    "name": "ipython",
    "version": 3
   },
   "file_extension": ".py",
   "mimetype": "text/x-python",
   "name": "python",
   "nbconvert_exporter": "python",
   "pygments_lexer": "ipython3",
   "version": "3.9.12"
  }
 },
 "nbformat": 4,
 "nbformat_minor": 5
}
